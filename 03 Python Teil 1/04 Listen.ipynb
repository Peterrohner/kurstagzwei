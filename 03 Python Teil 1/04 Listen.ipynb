{
 "cells": [
  {
   "cell_type": "markdown",
   "metadata": {
    "collapsed": true
   },
   "source": [
    "# Listen\n",
    "\n",
    "Bislang haben wir in einer Variable jeweils nur ein Element (Zahl oder String) gespeichert. "
   ]
  },
  {
   "cell_type": "code",
   "execution_count": 1,
   "metadata": {},
   "outputs": [],
   "source": [
    "student1 = \"Max\"\n",
    "student2 = \"Monika\"\n",
    "student3 = \"Erik\"\n",
    "student4 = \"Franziska\""
   ]
  },
  {
   "cell_type": "markdown",
   "metadata": {},
   "source": [
    "### Eine Liste erstellen\n",
    "**Listen** hingegen können mehrere Elemente enthalten. Man erzeugt eine Liste und füllt sie mit Elementen wie folgt:\n",
    "\n",
    "**Listenname = [Element1, Element2, Element3]** \n",
    "\n",
    "Natürlich kann eine Liste nicht nur drei, sondern beliebig viele Elemente enthalten.\n",
    "\n",
    "Konkret kann das dann so aussehen:"
   ]
  },
  {
   "cell_type": "code",
   "execution_count": 27,
   "metadata": {},
   "outputs": [
    {
     "name": "stdout",
     "output_type": "stream",
     "text": [
      "['Max', 'Monika', 'Erik', 'Franziska']\n"
     ]
    }
   ],
   "source": [
    "studenten = [\"Max\", \"Monika\", \"Erik\", \"Franziska\"]\n",
    "print(studenten)"
   ]
  },
  {
   "cell_type": "code",
   "execution_count": 4,
   "metadata": {},
   "outputs": [],
   "source": [
    "noten = [4, 3, 2, 1]"
   ]
  },
  {
   "cell_type": "markdown",
   "metadata": {},
   "source": [
    "Listen kannst du wie Zahlen und Strings per print()-Befehl ausgeben."
   ]
  },
  {
   "cell_type": "code",
   "execution_count": 5,
   "metadata": {},
   "outputs": [
    {
     "name": "stdout",
     "output_type": "stream",
     "text": [
      "['Max', 'Monika', 'Erik', 'Franziska']\n"
     ]
    }
   ],
   "source": [
    "print(studenten) "
   ]
  },
  {
   "cell_type": "markdown",
   "metadata": {},
   "source": [
    "In einer Liste dürfen auch Strings und Zahlen nebeneinander vorkommen, doch davon ist abzuraten! Wir werden dafür später geeignetere Strukturen kennenlernen. :-)"
   ]
  },
  {
   "cell_type": "code",
   "execution_count": 20,
   "metadata": {},
   "outputs": [
    {
     "data": {
      "text/plain": [
       "['Claudia', 'Edzard', 'Jürg', 'Michael', 'Priska']"
      ]
     },
     "execution_count": 20,
     "metadata": {},
     "output_type": "execute_result"
    }
   ],
   "source": [
    "studentenmaz = [\"Claudia\", \"Edzard\", \"Jürg\", \"Michael\",\"Priska\"]\n",
    "studentenmaz"
   ]
  },
  {
   "cell_type": "markdown",
   "metadata": {},
   "source": [
    "### Ein Element aus einer Liste auswählen\n",
    "Du kannst auch auf die Elemente aus einer Liste einzeln zugreifen. Stell dir vor, dass alle Elemente in einer Liste durchnummeriert sind, aufsteigend von 0 an. Per **Index** kannst du ein Element über seine Position in der Liste anwählen: \n",
    "\n",
    "**Listenname[Position]**\n",
    "\n",
    "Konkret sieht das so aus:"
   ]
  },
  {
   "cell_type": "code",
   "execution_count": 21,
   "metadata": {},
   "outputs": [
    {
     "name": "stdout",
     "output_type": "stream",
     "text": [
      "Claudia undPriska\n"
     ]
    }
   ],
   "source": [
    "frauen = studentenmaz[0] + \" und \" +studentenmaz[4]\n",
    "print(frauen)"
   ]
  },
  {
   "cell_type": "markdown",
   "metadata": {},
   "source": [
    "Jetzt noch eine neue Frauenlist"
   ]
  },
  {
   "cell_type": "code",
   "execution_count": 25,
   "metadata": {},
   "outputs": [
    {
     "ename": "SyntaxError",
     "evalue": "invalid syntax (<ipython-input-25-0180102dd726>, line 1)",
     "output_type": "error",
     "traceback": [
      "\u001b[0;36m  File \u001b[0;32m\"<ipython-input-25-0180102dd726>\"\u001b[0;36m, line \u001b[0;32m1\u001b[0m\n\u001b[0;31m    Frauenliste = [studentenmaz[0]],studentenmaz[4]]\u001b[0m\n\u001b[0m                                                   ^\u001b[0m\n\u001b[0;31mSyntaxError\u001b[0m\u001b[0;31m:\u001b[0m invalid syntax\n"
     ]
    }
   ],
   "source": [
    "Frauenliste = [studentenmaz[0]],studentenmaz[4]]"
   ]
  },
  {
   "cell_type": "code",
   "execution_count": null,
   "metadata": {},
   "outputs": [],
   "source": [
    "print(studenten[3])"
   ]
  },
  {
   "cell_type": "markdown",
   "metadata": {},
   "source": [
    "Die ausgewählten Elemente aus einer Liste kannst du dann weiterverarbeiten wie du das von Variablen schon kennst. Dabei solltest du beachten, ob es sich bei den Elementen um Zahlen oder Strings handelt."
   ]
  },
  {
   "cell_type": "code",
   "execution_count": null,
   "metadata": {},
   "outputs": [],
   "source": [
    "print(studenten[0] + \" und \" + studenten[3])"
   ]
  },
  {
   "cell_type": "code",
   "execution_count": null,
   "metadata": {},
   "outputs": [],
   "source": [
    "# den Notendurchschnitt ausrechnen\n",
    "print((noten[0] + noten[1] + noten[2] + noten[3]) / 4)"
   ]
  },
  {
   "cell_type": "markdown",
   "metadata": {},
   "source": [
    "### Ein weiteres Element an eine Liste anhängen\n",
    "Möchtest du ein weiteres Element an deine Liste anhängen, verwendest du den **append()**-Befehl. Anders als die Befehle, die du schon kennst, wie den print()-Befehl, steht append() nicht für sich, sondern mit einem Punkt _hinter_ dem Objekt, auf den append() angewendet wird: \n",
    "\n",
    "**Listenname.append(Element)**\n",
    " "
   ]
  },
  {
   "cell_type": "code",
   "execution_count": 29,
   "metadata": {},
   "outputs": [
    {
     "name": "stdout",
     "output_type": "stream",
     "text": [
      "['Max', 'Monika', 'Erik', 'Franziska', 'Plotti', 'Plotti']\n"
     ]
    }
   ],
   "source": [
    "studenten.append(\"Plotti\")\n",
    "print (studenten)"
   ]
  },
  {
   "cell_type": "markdown",
   "metadata": {},
   "source": [
    "Jetzt schauen wir uns an, ob der Befehl auch funktioniert hat ;-):"
   ]
  },
  {
   "cell_type": "code",
   "execution_count": null,
   "metadata": {},
   "outputs": [],
   "source": [
    "print(studenten)"
   ]
  },
  {
   "cell_type": "markdown",
   "metadata": {
    "collapsed": true
   },
   "source": [
    "### Ein Element entfernen\n",
    "Genauso wie du ein Element hinzufügen kannst, so kannst du auch das letzte Element aus der Liste entfernen. \n",
    "\n",
    "**Listenname.pop()**\n"
   ]
  },
  {
   "cell_type": "code",
   "execution_count": 34,
   "metadata": {
    "scrolled": true
   },
   "outputs": [
    {
     "name": "stdout",
     "output_type": "stream",
     "text": [
      "['Venus', 'Erde', 'Mars', 'Jupiter', 'Saturn', 'Uranus', 'Neptun', 'Pluto']\n"
     ]
    }
   ],
   "source": [
    "planets = [\"Merkur\", \"Venus\", \"Erde\", \"Mars\", \"Jupiter\", \"Saturn\", \"Uranus\", \"Neptun\", \"Pluto\"]\n",
    "planets.pop(0)\n",
    "print(planets)"
   ]
  },
  {
   "cell_type": "markdown",
   "metadata": {},
   "source": [
    "Jetzt speichern wir die entfernten Elemente als p ab"
   ]
  },
  {
   "cell_type": "code",
   "execution_count": 35,
   "metadata": {},
   "outputs": [
    {
     "name": "stdout",
     "output_type": "stream",
     "text": [
      "Pluto\n",
      "['Merkur', 'Venus', 'Erde', 'Mars', 'Jupiter', 'Saturn', 'Uranus', 'Neptun']\n"
     ]
    }
   ],
   "source": [
    "planets = [\"Merkur\", \"Venus\", \"Erde\", \"Mars\", \"Jupiter\", \"Saturn\", \"Uranus\", \"Neptun\", \"Pluto\"]\n",
    "\n",
    "p = planets.pop()\n",
    "print(p)\n",
    "\n",
    "print(planets)"
   ]
  },
  {
   "cell_type": "markdown",
   "metadata": {},
   "source": [
    "### Die Länge einer Liste abfragen\n",
    "Mit dem len-Befehl kannst du herausfinden, wie viele Elemente eine Liste enthält: **len(Listenname)**"
   ]
  },
  {
   "cell_type": "code",
   "execution_count": 39,
   "metadata": {},
   "outputs": [
    {
     "name": "stdout",
     "output_type": "stream",
     "text": [
      "6\n"
     ]
    },
    {
     "data": {
      "text/plain": [
       "['Max', 'Monika', 'Erik', 'Franziska', 'Plotti', 'Plotti']"
      ]
     },
     "execution_count": 39,
     "metadata": {},
     "output_type": "execute_result"
    }
   ],
   "source": [
    "print(len(studenten))\n",
    "studenten"
   ]
  },
  {
   "cell_type": "markdown",
   "metadata": {},
   "source": [
    "## Übung\n",
    "- Speichere die Namen aller Kursteilnehmer in einer Liste, angefangen mit Dir.\n",
    "- Jetzt füge per append die Instruktoren hinzu.\n",
    "- Jetzt füge per append noch Dein Alter hinzu. \n",
    "- Jetzt lösche lieber Dein Alter. \n",
    "- Gib die Liste aus. "
   ]
  },
  {
   "cell_type": "code",
   "execution_count": 54,
   "metadata": {},
   "outputs": [],
   "source": [
    "Kursteilnehmer = [\"Peter\", \"Claudia\", \"Edzard\", \"Jürg\", \"Michael\",\"Priska\", \"Florian\", \"Yannick\", \"Reto\", \"Lea\",\"Denise\"]"
   ]
  },
  {
   "cell_type": "code",
   "execution_count": 55,
   "metadata": {},
   "outputs": [],
   "source": [
    "Kursteilnehmer.append(\"Plotti\")"
   ]
  },
  {
   "cell_type": "code",
   "execution_count": 56,
   "metadata": {},
   "outputs": [
    {
     "name": "stdout",
     "output_type": "stream",
     "text": [
      "['Peter', 'Claudia', 'Edzard', 'Jürg', 'Michael', 'Priska', 'Florian', 'Yannick', 'Reto', 'Lea', 'Denise', 'Plotti']\n"
     ]
    }
   ],
   "source": [
    "print(Kursteilnehmer)"
   ]
  },
  {
   "cell_type": "code",
   "execution_count": 57,
   "metadata": {},
   "outputs": [],
   "source": [
    "Kursteilnehmer.append(\"37\")"
   ]
  },
  {
   "cell_type": "code",
   "execution_count": 58,
   "metadata": {},
   "outputs": [
    {
     "name": "stdout",
     "output_type": "stream",
     "text": [
      "['Peter', 'Claudia', 'Edzard', 'Jürg', 'Michael', 'Priska', 'Florian', 'Yannick', 'Reto', 'Lea', 'Denise', 'Plotti', '37']\n"
     ]
    }
   ],
   "source": [
    "print(Kursteilnehmer)"
   ]
  },
  {
   "cell_type": "code",
   "execution_count": 61,
   "metadata": {},
   "outputs": [
    {
     "name": "stdout",
     "output_type": "stream",
     "text": [
      "['Peter', 'Claudia', 'Edzard', 'Jürg', 'Michael', 'Priska', 'Florian', 'Yannick', 'Reto', 'Lea', 'Denise']\n"
     ]
    },
    {
     "data": {
      "text/plain": [
       "['Peter',\n",
       " 'Claudia',\n",
       " 'Edzard',\n",
       " 'Jürg',\n",
       " 'Michael',\n",
       " 'Priska',\n",
       " 'Florian',\n",
       " 'Yannick',\n",
       " 'Reto',\n",
       " 'Lea',\n",
       " 'Denise']"
      ]
     },
     "execution_count": 61,
     "metadata": {},
     "output_type": "execute_result"
    }
   ],
   "source": [
    "Kursteilnehmer.pop()\n",
    "print(Kursteilnehmer)\n",
    "Kursteilnehmer"
   ]
  },
  {
   "cell_type": "raw",
   "metadata": {},
   "source": [
    "sort(Kursteilnehmer)\n",
    "Kursteilnehmer"
   ]
  },
  {
   "cell_type": "code",
   "execution_count": 65,
   "metadata": {},
   "outputs": [
    {
     "data": {
      "text/plain": [
       "['Claudia',\n",
       " 'Denise',\n",
       " 'Edzard',\n",
       " 'Florian',\n",
       " 'Jürg',\n",
       " 'Lea',\n",
       " 'Michael',\n",
       " 'Peter',\n",
       " 'Priska',\n",
       " 'Reto',\n",
       " 'Yannick']"
      ]
     },
     "execution_count": 65,
     "metadata": {},
     "output_type": "execute_result"
    }
   ],
   "source": [
    "Kursteilnehmer.sort()\n",
    "Kursteilnehmer"
   ]
  },
  {
   "cell_type": "code",
   "execution_count": null,
   "metadata": {},
   "outputs": [],
   "source": []
  }
 ],
 "metadata": {
  "kernelspec": {
   "display_name": "Python 3",
   "language": "python",
   "name": "python3"
  },
  "language_info": {
   "codemirror_mode": {
    "name": "ipython",
    "version": 3
   },
   "file_extension": ".py",
   "mimetype": "text/x-python",
   "name": "python",
   "nbconvert_exporter": "python",
   "pygments_lexer": "ipython3",
   "version": "3.7.0"
  }
 },
 "nbformat": 4,
 "nbformat_minor": 2
}
